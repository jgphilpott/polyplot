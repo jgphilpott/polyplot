{
 "cells": [
  {
   "cell_type": "markdown",
   "metadata": {},
   "source": [
    "# Installs"
   ]
  },
  {
   "cell_type": "code",
   "execution_count": null,
   "metadata": {},
   "outputs": [],
   "source": [
    "pip install pymongo==3.11.0"
   ]
  },
  {
   "cell_type": "code",
   "execution_count": null,
   "metadata": {},
   "outputs": [],
   "source": [
    "pip install matplotlib"
   ]
  },
  {
   "cell_type": "markdown",
   "metadata": {},
   "source": [
    "# Imports"
   ]
  },
  {
   "cell_type": "code",
   "execution_count": null,
   "metadata": {},
   "outputs": [],
   "source": [
    "from pprint import pprint as pp\n",
    "from pymongo import MongoClient\n",
    "import matplotlib.pyplot as plt"
   ]
  },
  {
   "cell_type": "markdown",
   "metadata": {},
   "source": [
    "# Database Link"
   ]
  },
  {
   "cell_type": "code",
   "execution_count": null,
   "metadata": {},
   "outputs": [],
   "source": [
    "client = MongoClient(\"database\", 27017)\n",
    "database = client.polyplot\n",
    "collection = database[\"indicators\"]"
   ]
  },
  {
   "cell_type": "markdown",
   "metadata": {},
   "source": [
    "# Basic Functions"
   ]
  },
  {
   "cell_type": "code",
   "execution_count": null,
   "metadata": {},
   "outputs": [],
   "source": [
    "def drop_collection():\n",
    "\n",
    "    collection.drop()\n",
    "\n",
    "def find_indicator(query={}, filter={\"_id\": 0}):\n",
    "\n",
    "    return dict(collection.find_one(query, filter))\n",
    "\n",
    "def find_indicators(query={}, filter={\"_id\": 0}, sort=[(\"name\", 1)], limit=0):\n",
    "\n",
    "    collection.create_index(sort)\n",
    "\n",
    "    return list(collection.find(query, filter).sort(sort).limit(limit))\n",
    "\n",
    "def update_indicator(indicator):\n",
    "\n",
    "    return collection.update_one({\"code\": indicator[\"code\"]}, {\"$set\": indicator})\n",
    "\n",
    "def update_indicators():\n",
    "\n",
    "    for indicator in find_indicators():\n",
    "\n",
    "        update_indicator(indicator)"
   ]
  },
  {
   "cell_type": "markdown",
   "metadata": {},
   "source": [
    "# Indicator Completeness\n",
    "\n",
    "Indicator completeness is a measure of how complete the dataset is within the given scope.\n",
    "\n",
    "The cell below displays a simple histogram to help visualize the distribution of indicator completeness."
   ]
  },
  {
   "cell_type": "code",
   "execution_count": null,
   "metadata": {},
   "outputs": [],
   "source": [
    "completeness = []\n",
    "\n",
    "for indicator in find_indicators(filter={\"_id\": 0, \"completeness\": 1, \"size\": 1}):\n",
    "    if \"completeness\" in indicator: completeness.append(indicator[\"completeness\"])\n",
    "\n",
    "plt.hist(completeness, bins=20)\n",
    "plt.show()"
   ]
  },
  {
   "cell_type": "markdown",
   "metadata": {},
   "source": [
    "# Indicator Size\n",
    "\n",
    "Indicator size is a measure of the approximate byte size of the given indicator.\n",
    "\n",
    "The cell below displays a simple histogram to help visualize the distribution of indicator size."
   ]
  },
  {
   "cell_type": "code",
   "execution_count": null,
   "metadata": {},
   "outputs": [],
   "source": [
    "size = []\n",
    "\n",
    "for indicator in find_indicators(filter={\"_id\": 0, \"completeness\": 1, \"size\": 1}):\n",
    "    if \"size\" in indicator: size.append(indicator[\"size\"])\n",
    "\n",
    "plt.hist(size, bins=50)\n",
    "plt.show()"
   ]
  }
 ],
 "metadata": {
  "kernelspec": {
   "display_name": "Python 3",
   "language": "python",
   "name": "python3"
  },
  "language_info": {
   "codemirror_mode": {
    "name": "ipython",
    "version": 3
   },
   "file_extension": ".py",
   "mimetype": "text/x-python",
   "name": "python",
   "nbconvert_exporter": "python",
   "pygments_lexer": "ipython3",
   "version": "3.8.6"
  }
 },
 "nbformat": 4,
 "nbformat_minor": 4
}