{
 "cells": [
  {
   "cell_type": "markdown",
   "metadata": {},
   "source": [
    "# Installs"
   ]
  },
  {
   "cell_type": "code",
   "execution_count": null,
   "metadata": {},
   "outputs": [],
   "source": [
    "pip install pymongo==3.11.0"
   ]
  },
  {
   "cell_type": "markdown",
   "metadata": {},
   "source": [
    "# Imports"
   ]
  },
  {
   "cell_type": "code",
   "execution_count": null,
   "metadata": {},
   "outputs": [],
   "source": [
    "from os import environ\n",
    "from pprint import pprint as pp\n",
    "from pymongo import MongoClient"
   ]
  },
  {
   "cell_type": "markdown",
   "metadata": {},
   "source": [
    "# Database Link"
   ]
  },
  {
   "cell_type": "code",
   "execution_count": null,
   "metadata": {},
   "outputs": [],
   "source": [
    "client = MongoClient(environ[\"MONGO_PORT_27017_TCP_ADDR\"], 27017)\n",
    "database = client.polyplot"
   ]
  },
  {
   "cell_type": "markdown",
   "metadata": {},
   "source": [
    "# Basic Functions"
   ]
  },
  {
   "cell_type": "code",
   "execution_count": null,
   "metadata": {},
   "outputs": [],
   "source": [
    "def drop_collection(detail):\n",
    "\n",
    "    database[\"maps_\" + detail].drop()\n",
    "\n",
    "def find_map(query={}, filter={\"_id\": 0}, detail=\"micro\"):\n",
    "\n",
    "    collection = database[\"maps_\" + detail]\n",
    "\n",
    "    return dict(collection.find_one(query, filter))\n",
    "\n",
    "def find_maps(query={}, filter={\"_id\": 0}, sort=[(\"properties.code\", 1)], limit=0, detail=\"micro\"):\n",
    "\n",
    "    collection = database[\"maps_\" + detail]\n",
    "\n",
    "    collection.create_index(sort)\n",
    "\n",
    "    return list(collection.find(query, filter).sort(sort).limit(limit))"
   ]
  }
 ],
 "metadata": {
  "kernelspec": {
   "display_name": "Python 3",
   "language": "python",
   "name": "python3"
  },
  "language_info": {
   "codemirror_mode": {
    "name": "ipython",
    "version": 3
   },
   "file_extension": ".py",
   "mimetype": "text/x-python",
   "name": "python",
   "nbconvert_exporter": "python",
   "pygments_lexer": "ipython3",
   "version": "3.8.6"
  }
 },
 "nbformat": 4,
 "nbformat_minor": 4
}