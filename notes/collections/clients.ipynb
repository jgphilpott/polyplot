{
 "cells": [
  {
   "cell_type": "markdown",
   "metadata": {},
   "source": [
    "# Installs"
   ]
  },
  {
   "cell_type": "code",
   "execution_count": null,
   "metadata": {},
   "outputs": [],
   "source": [
    "pip install pymongo==3.11.0"
   ]
  },
  {
   "cell_type": "markdown",
   "metadata": {},
   "source": [
    "# Imports"
   ]
  },
  {
   "cell_type": "code",
   "execution_count": null,
   "metadata": {},
   "outputs": [],
   "source": [
    "from pprint import pprint as pp\n",
    "from pymongo import MongoClient"
   ]
  },
  {
   "cell_type": "markdown",
   "metadata": {},
   "source": [
    "# Database Link"
   ]
  },
  {
   "cell_type": "code",
   "execution_count": null,
   "metadata": {},
   "outputs": [],
   "source": [
    "client = MongoClient(\"database\", 27017)\n",
    "database = client.polyplot\n",
    "collection = database[\"clients\"]"
   ]
  },
  {
   "cell_type": "markdown",
   "metadata": {},
   "source": [
    "# Basic Functions"
   ]
  },
  {
   "cell_type": "code",
   "execution_count": null,
   "metadata": {},
   "outputs": [],
   "source": [
    "def drop_collection():\n",
    "\n",
    "    collection.drop()\n",
    "\n",
    "def new_client(client):\n",
    "\n",
    "    return str(collection.insert_one(client).inserted_id)\n",
    "\n",
    "def new_clients(clients):\n",
    "\n",
    "    return str(collection.insert_many(clients).inserted_ids)\n",
    "\n",
    "def find_client(query={}, filter={\"_id\": 0}):\n",
    "\n",
    "    return dict(collection.find_one(query, filter))\n",
    "\n",
    "def find_clients(query={}, filter={\"_id\": 0}, sort=[(\"email\", 1)], limit=0):\n",
    "\n",
    "    collection.create_index(sort)\n",
    "\n",
    "    return list(collection.find(query, filter).sort(sort).limit(limit))\n",
    "\n",
    "def update_client(client):\n",
    "\n",
    "    return collection.update_one({\"email\": client[\"email\"]}, {\"$set\": client})\n",
    "\n",
    "def update_clients():\n",
    "\n",
    "    for client in find_clients():\n",
    "\n",
    "        update_client(client)\n",
    "\n",
    "def valid_client(id):\n",
    "\n",
    "    try:\n",
    "\n",
    "        return find_client({\"id\": id}, {\"_id\": 0, \"id\": 0, \"password\": 0})\n",
    "\n",
    "    except:\n",
    "\n",
    "        return None"
   ]
  }
 ],
 "metadata": {
  "kernelspec": {
   "display_name": "Python 3",
   "language": "python",
   "name": "python3"
  },
  "language_info": {
   "codemirror_mode": {
    "name": "ipython",
    "version": 3
   },
   "file_extension": ".py",
   "mimetype": "text/x-python",
   "name": "python",
   "nbconvert_exporter": "python",
   "pygments_lexer": "ipython3",
   "version": "3.8.6"
  }
 },
 "nbformat": 4,
 "nbformat_minor": 4
}