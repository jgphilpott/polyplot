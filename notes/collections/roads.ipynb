{
 "cells": [
  {
   "cell_type": "markdown",
   "metadata": {},
   "source": [
    "# Installs"
   ]
  },
  {
   "cell_type": "code",
   "execution_count": null,
   "metadata": {},
   "outputs": [],
   "source": [
    "pip install pymongo==3.11.0"
   ]
  },
  {
   "cell_type": "code",
   "execution_count": null,
   "metadata": {},
   "outputs": [],
   "source": [
    "pip install matplotlib"
   ]
  },
  {
   "cell_type": "markdown",
   "metadata": {},
   "source": [
    "# Imports"
   ]
  },
  {
   "cell_type": "code",
   "execution_count": null,
   "metadata": {},
   "outputs": [],
   "source": [
    "from os import environ\n",
    "from pprint import pprint as pp\n",
    "from pymongo import MongoClient\n",
    "import matplotlib.pyplot as plt"
   ]
  },
  {
   "cell_type": "markdown",
   "metadata": {},
   "source": [
    "# Database Link"
   ]
  },
  {
   "cell_type": "code",
   "execution_count": null,
   "metadata": {},
   "outputs": [],
   "source": [
    "client = MongoClient(environ[\"MONGO_PORT_27017_TCP_ADDR\"], 27017)\n",
    "database = client.polyplot"
   ]
  },
  {
   "cell_type": "markdown",
   "metadata": {},
   "source": [
    "# Basic Functions"
   ]
  },
  {
   "cell_type": "code",
   "execution_count": null,
   "metadata": {},
   "outputs": [],
   "source": [
    "def drop_collection(detail):\n",
    "\n",
    "    database[\"roads_\" + detail].drop()\n",
    "\n",
    "def find_road(query={}, filter={\"_id\": 0}, detail=\"micro\"):\n",
    "\n",
    "    collection = database[\"roads_\" + detail]\n",
    "\n",
    "    return dict(collection.find_one(query, filter))\n",
    "\n",
    "def find_roads(query={}, filter={\"_id\": 0}, sort=[(\"properties.id\", 1)], limit=0, detail=\"micro\"):\n",
    "\n",
    "    collection = database[\"roads_\" + detail]\n",
    "\n",
    "    collection.create_index(sort)\n",
    "\n",
    "    return list(collection.find(query, filter).sort(sort).limit(limit))"
   ]
  },
  {
   "cell_type": "markdown",
   "metadata": {},
   "source": [
    "# Road Type\n",
    "\n",
    "Road type is a classification of the roads level of significance.\n",
    "\n",
    "The cell below displays a simple histogram to help visualize the distribution of road types.\n",
    "\n",
    "For more information look [here](https://www.naturalearthdata.com/downloads/10m-cultural-vectors/roads)."
   ]
  },
  {
   "cell_type": "code",
   "execution_count": null,
   "metadata": {},
   "outputs": [],
   "source": [
    "types = []\n",
    "\n",
    "for road in find_roads():\n",
    "    types.append(road[\"properties\"][\"category\"])\n",
    "\n",
    "plt.hist(types, bins=8)\n",
    "plt.xticks(rotation=90)\n",
    "plt.show()"
   ]
  },
  {
   "cell_type": "markdown",
   "metadata": {},
   "source": [
    "# Road Length\n",
    "\n",
    "Road length is a measure of how long the road is in kilometers.\n",
    "\n",
    "The cell below displays a simple histogram to help visualize the distribution of road lengths.\n",
    "\n",
    "For more information look [here](https://www.naturalearthdata.com/downloads/10m-cultural-vectors/roads)."
   ]
  },
  {
   "cell_type": "code",
   "execution_count": null,
   "metadata": {},
   "outputs": [],
   "source": [
    "lengths = []\n",
    "\n",
    "for road in find_roads():\n",
    "    lengths.append(road[\"properties\"][\"length_km\"])\n",
    "\n",
    "plt.hist(lengths, bins=14)\n",
    "plt.show()"
   ]
  },
  {
   "cell_type": "markdown",
   "metadata": {},
   "source": [
    "# Road Rank\n",
    "\n",
    "Road rank is an integer between 1 and 10 used to indicate the road's size/significance.\n",
    "\n",
    "The cell below displays a simple histogram to help visualize the distribution of road ranks.\n",
    "\n",
    "For more information look [here](https://www.naturalearthdata.com/downloads/10m-cultural-vectors/roads)."
   ]
  },
  {
   "cell_type": "code",
   "execution_count": null,
   "metadata": {},
   "outputs": [],
   "source": [
    "ranks = []\n",
    "\n",
    "for road in find_roads():\n",
    "    ranks.append(road[\"properties\"][\"rank\"])\n",
    "\n",
    "plt.hist(ranks, bins=10)\n",
    "plt.show()"
   ]
  }
 ],
 "metadata": {
  "kernelspec": {
   "display_name": "Python 3",
   "language": "python",
   "name": "python3"
  },
  "language_info": {
   "codemirror_mode": {
    "name": "ipython",
    "version": 3
   },
   "file_extension": ".py",
   "mimetype": "text/x-python",
   "name": "python",
   "nbconvert_exporter": "python",
   "pygments_lexer": "ipython3",
   "version": "3.8.6"
  }
 },
 "nbformat": 4,
 "nbformat_minor": 4
}
