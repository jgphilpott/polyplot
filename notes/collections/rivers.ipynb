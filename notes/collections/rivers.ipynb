{
 "cells": [
  {
   "cell_type": "markdown",
   "metadata": {},
   "source": [
    "# Installs"
   ]
  },
  {
   "cell_type": "code",
   "execution_count": null,
   "metadata": {},
   "outputs": [],
   "source": [
    "pip install pymongo==3.11.0"
   ]
  },
  {
   "cell_type": "code",
   "execution_count": null,
   "metadata": {},
   "outputs": [],
   "source": [
    "pip install matplotlib"
   ]
  },
  {
   "cell_type": "markdown",
   "metadata": {},
   "source": [
    "# Imports"
   ]
  },
  {
   "cell_type": "code",
   "execution_count": null,
   "metadata": {},
   "outputs": [],
   "source": [
    "from pprint import pprint as pp\n",
    "from pymongo import MongoClient\n",
    "import matplotlib.pyplot as plt"
   ]
  },
  {
   "cell_type": "markdown",
   "metadata": {},
   "source": [
    "# Database Link"
   ]
  },
  {
   "cell_type": "code",
   "execution_count": null,
   "metadata": {},
   "outputs": [],
   "source": [
    "client = MongoClient(\"database\", 27017)\n",
    "database = client.polyplot"
   ]
  },
  {
   "cell_type": "markdown",
   "metadata": {},
   "source": [
    "# Basic Functions"
   ]
  },
  {
   "cell_type": "code",
   "execution_count": null,
   "metadata": {},
   "outputs": [],
   "source": [
    "def drop_collection(detail):\n",
    "\n",
    "    database[\"rivers_\" + detail].drop()\n",
    "\n",
    "def find_river(query={}, filter={\"_id\": 0}, detail=\"micro\"):\n",
    "\n",
    "    collection = database[\"rivers_\" + detail]\n",
    "\n",
    "    return dict(collection.find_one(query, filter))\n",
    "\n",
    "def find_rivers(query={}, filter={\"_id\": 0}, sort=[(\"properties.id\", 1)], limit=0, detail=\"micro\"):\n",
    "\n",
    "    collection = database[\"rivers_\" + detail]\n",
    "\n",
    "    collection.create_index(sort)\n",
    "\n",
    "    return list(collection.find(query, filter).sort(sort).limit(limit))"
   ]
  },
  {
   "cell_type": "markdown",
   "metadata": {},
   "source": [
    "# River Rank\n",
    "\n",
    "River rank is an integer between 1 and 10 used to indicate the river's size/significance.\n",
    "\n",
    "The cell below displays a simple histogram to help visualize the distribution of river ranks.\n",
    "\n",
    "For more information look [here](https://www.naturalearthdata.com/downloads/10m-physical-vectors/10m-rivers-lake-centerlines)."
   ]
  },
  {
   "cell_type": "code",
   "execution_count": null,
   "metadata": {},
   "outputs": [],
   "source": [
    "ranks = []\n",
    "\n",
    "for river in find_rivers():\n",
    "    ranks.append(river[\"properties\"][\"rank\"])\n",
    "\n",
    "plt.hist(ranks, bins=10)\n",
    "plt.show()"
   ]
  }
 ],
 "metadata": {
  "kernelspec": {
   "display_name": "Python 3",
   "language": "python",
   "name": "python3"
  },
  "language_info": {
   "codemirror_mode": {
    "name": "ipython",
    "version": 3
   },
   "file_extension": ".py",
   "mimetype": "text/x-python",
   "name": "python",
   "nbconvert_exporter": "python",
   "pygments_lexer": "ipython3",
   "version": "3.8.6"
  }
 },
 "nbformat": 4,
 "nbformat_minor": 4
}