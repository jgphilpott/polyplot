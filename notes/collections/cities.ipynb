{
 "cells": [
  {
   "cell_type": "markdown",
   "metadata": {},
   "source": [
    "# Installs"
   ]
  },
  {
   "cell_type": "code",
   "execution_count": null,
   "metadata": {},
   "outputs": [],
   "source": [
    "pip install pymongo==3.11.0"
   ]
  },
  {
   "cell_type": "code",
   "execution_count": null,
   "metadata": {},
   "outputs": [],
   "source": [
    "pip install matplotlib"
   ]
  },
  {
   "cell_type": "markdown",
   "metadata": {},
   "source": [
    "# Imports"
   ]
  },
  {
   "cell_type": "code",
   "execution_count": null,
   "metadata": {},
   "outputs": [],
   "source": [
    "from pprint import pprint as pp\n",
    "from pymongo import MongoClient\n",
    "import matplotlib.pyplot as plt"
   ]
  },
  {
   "cell_type": "markdown",
   "metadata": {},
   "source": [
    "# Database Link"
   ]
  },
  {
   "cell_type": "code",
   "execution_count": null,
   "metadata": {},
   "outputs": [],
   "source": [
    "client = MongoClient(\"database\", 27017)\n",
    "database = client.polyplot\n",
    "collection = database[\"cities\"]"
   ]
  },
  {
   "cell_type": "markdown",
   "metadata": {},
   "source": [
    "# Basic Functions"
   ]
  },
  {
   "cell_type": "code",
   "execution_count": null,
   "metadata": {},
   "outputs": [],
   "source": [
    "def drop_collection():\n",
    "\n",
    "    collection.drop()\n",
    "\n",
    "def find_city(query={}, filter={\"_id\": 0}):\n",
    "\n",
    "    return dict(collection.find_one(query, filter))\n",
    "\n",
    "def find_cities(query={}, filter={\"_id\": 0}, sort=[(\"properties.rank\", 1), (\"properties.pop_avg\", -1), (\"properties.name\", 1)], limit=0):\n",
    "\n",
    "    collection.create_index(sort)\n",
    "\n",
    "    return list(collection.find(query, filter).sort(sort).limit(limit))"
   ]
  },
  {
   "cell_type": "markdown",
   "metadata": {},
   "source": [
    "# City Population\n",
    "\n",
    "City population is a measure of the number of people that live in that city.\n",
    "\n",
    "The cell below displays a simple histogram to help visualize the distribution of city populations.\n",
    "\n",
    "For more information look [here](https://www.naturalearthdata.com/downloads/10m-cultural-vectors/10m-populated-places)."
   ]
  },
  {
   "cell_type": "code",
   "execution_count": null,
   "metadata": {},
   "outputs": [],
   "source": [
    "populations = []\n",
    "\n",
    "for city in find_cities():\n",
    "    populations.append(city[\"properties\"][\"pop_avg\"])\n",
    "\n",
    "print(\"\\nNumber of Cities: {}\\n\\nMax Population: {}\\nMin Population: {}\".format(len(populations), max(populations), min(populations)))\n",
    "\n",
    "plt.hist(populations, bins=50)\n",
    "plt.show()"
   ]
  },
  {
   "cell_type": "markdown",
   "metadata": {},
   "source": [
    "# City Rank\n",
    "\n",
    "City rank is an integer between 1 and 10 used to indicate the city's size/significance.\n",
    "\n",
    "The cell below displays a simple histogram to help visualize the distribution of city ranks.\n",
    "\n",
    "For more information look [here](https://www.naturalearthdata.com/downloads/10m-cultural-vectors/10m-populated-places)."
   ]
  },
  {
   "cell_type": "code",
   "execution_count": null,
   "metadata": {},
   "outputs": [],
   "source": [
    "ranks = []\n",
    "\n",
    "for city in find_cities():\n",
    "    ranks.append(city[\"properties\"][\"rank\"])\n",
    "\n",
    "plt.hist(ranks, bins=10)\n",
    "plt.show()"
   ]
  }
 ],
 "metadata": {
  "kernelspec": {
   "display_name": "Python 3",
   "language": "python",
   "name": "python3"
  },
  "language_info": {
   "codemirror_mode": {
    "name": "ipython",
    "version": 3
   },
   "file_extension": ".py",
   "mimetype": "text/x-python",
   "name": "python",
   "nbconvert_exporter": "python",
   "pygments_lexer": "ipython3",
   "version": "3.8.6"
  }
 },
 "nbformat": 4,
 "nbformat_minor": 4
}