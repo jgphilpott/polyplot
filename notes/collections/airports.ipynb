{
 "cells": [
  {
   "cell_type": "markdown",
   "metadata": {},
   "source": [
    "# Installs"
   ]
  },
  {
   "cell_type": "code",
   "execution_count": null,
   "metadata": {},
   "outputs": [],
   "source": [
    "pip install pymongo==3.11.0"
   ]
  },
  {
   "cell_type": "code",
   "execution_count": null,
   "metadata": {},
   "outputs": [],
   "source": [
    "pip install matplotlib"
   ]
  },
  {
   "cell_type": "markdown",
   "metadata": {},
   "source": [
    "# Imports"
   ]
  },
  {
   "cell_type": "code",
   "execution_count": null,
   "metadata": {},
   "outputs": [],
   "source": [
    "from pprint import pprint as pp\n",
    "from pymongo import MongoClient\n",
    "import matplotlib.pyplot as plt"
   ]
  },
  {
   "cell_type": "markdown",
   "metadata": {},
   "source": [
    "# Database Link"
   ]
  },
  {
   "cell_type": "code",
   "execution_count": null,
   "metadata": {},
   "outputs": [],
   "source": [
    "client = MongoClient(\"database\", 27017)\n",
    "database = client.polyplot\n",
    "collection = database[\"airports\"]"
   ]
  },
  {
   "cell_type": "markdown",
   "metadata": {},
   "source": [
    "# Basic Functions"
   ]
  },
  {
   "cell_type": "code",
   "execution_count": null,
   "metadata": {},
   "outputs": [],
   "source": [
    "def drop_collection():\n",
    "\n",
    "    collection.drop()\n",
    "\n",
    "def find_airport(query={}, filter={\"_id\": 0}):\n",
    "\n",
    "    return dict(collection.find_one(query, filter))\n",
    "\n",
    "def find_airports(query={}, filter={\"_id\": 0}, sort=[(\"properties.flow\", -1), (\"properties.code\", 1)], limit=0):\n",
    "\n",
    "    collection.create_index(sort)\n",
    "\n",
    "    return list(collection.find(query, filter).sort(sort).limit(limit))"
   ]
  },
  {
   "cell_type": "markdown",
   "metadata": {},
   "source": [
    "# Airport Flows\n",
    "\n",
    "Airport flow is a measure of the number of passengers that travel through it every year. This dataset represents the year of 2019.\n",
    "\n",
    "The cell below displays a simple histogram to help visualize the distribution of airport flows.\n",
    "\n",
    "For more information look [here](https://datacatalog.worldbank.org/dataset/global-airports)."
   ]
  },
  {
   "cell_type": "code",
   "execution_count": null,
   "metadata": {},
   "outputs": [],
   "source": [
    "flows = []\n",
    "\n",
    "for airport in find_airports():\n",
    "    flows.append(airport[\"properties\"][\"flow\"])\n",
    "\n",
    "print(\"\\nNumber of Airports: {}\\n\\nMax Flow: {}\\nMin Flow: {}\".format(len(flows), max(flows), min(flows)))\n",
    "\n",
    "plt.hist(flows, bins=10)\n",
    "plt.show()"
   ]
  }
 ],
 "metadata": {
  "kernelspec": {
   "display_name": "Python 3",
   "language": "python",
   "name": "python3"
  },
  "language_info": {
   "codemirror_mode": {
    "name": "ipython",
    "version": 3
   },
   "file_extension": ".py",
   "mimetype": "text/x-python",
   "name": "python",
   "nbconvert_exporter": "python",
   "pygments_lexer": "ipython3",
   "version": "3.8.6"
  }
 },
 "nbformat": 4,
 "nbformat_minor": 4
}