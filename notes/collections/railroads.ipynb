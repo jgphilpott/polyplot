{
 "cells": [
  {
   "cell_type": "markdown",
   "metadata": {},
   "source": [
    "# Installs"
   ]
  },
  {
   "cell_type": "code",
   "execution_count": null,
   "metadata": {},
   "outputs": [],
   "source": [
    "pip install pymongo==3.11.0"
   ]
  },
  {
   "cell_type": "code",
   "execution_count": null,
   "metadata": {},
   "outputs": [],
   "source": [
    "pip install matplotlib"
   ]
  },
  {
   "cell_type": "markdown",
   "metadata": {},
   "source": [
    "# Imports"
   ]
  },
  {
   "cell_type": "code",
   "execution_count": null,
   "metadata": {},
   "outputs": [],
   "source": [
    "from pprint import pprint as pp\n",
    "from pymongo import MongoClient\n",
    "import matplotlib.pyplot as plt"
   ]
  },
  {
   "cell_type": "markdown",
   "metadata": {},
   "source": [
    "# Database Link"
   ]
  },
  {
   "cell_type": "code",
   "execution_count": null,
   "metadata": {},
   "outputs": [],
   "source": [
    "client = MongoClient(\"database\", 27017)\n",
    "database = client.polyplot"
   ]
  },
  {
   "cell_type": "markdown",
   "metadata": {},
   "source": [
    "# Basic Functions"
   ]
  },
  {
   "cell_type": "code",
   "execution_count": null,
   "metadata": {},
   "outputs": [],
   "source": [
    "def drop_collection(detail):\n",
    "\n",
    "    database[\"railroads_\" + detail].drop()\n",
    "\n",
    "def find_railroad(query={}, filter={\"_id\": 0}, detail=\"micro\"):\n",
    "\n",
    "    collection = database[\"railroads_\" + detail]\n",
    "\n",
    "    return dict(collection.find_one(query, filter))\n",
    "\n",
    "def find_railroads(query={}, filter={\"_id\": 0}, sort=[(\"properties.id\", 1)], limit=0, detail=\"micro\"):\n",
    "\n",
    "    collection = database[\"railroads_\" + detail]\n",
    "\n",
    "    collection.create_index(sort)\n",
    "\n",
    "    return list(collection.find(query, filter).sort(sort).limit(limit))"
   ]
  },
  {
   "cell_type": "markdown",
   "metadata": {},
   "source": [
    "# Railroad Rank\n",
    "\n",
    "Railroad rank is an integer between 1 and 10 used to indicate the railroads size/significance.\n",
    "\n",
    "The cell below displays a simple histogram to help visualize the distribution of railroad ranks.\n",
    "\n",
    "For more information look [here](https://www.naturalearthdata.com/downloads/10m-cultural-vectors/railroads)."
   ]
  },
  {
   "cell_type": "code",
   "execution_count": null,
   "metadata": {},
   "outputs": [],
   "source": [
    "ranks = []\n",
    "\n",
    "for railroad in find_railroads():\n",
    "    ranks.append(railroad[\"properties\"][\"rank\"])\n",
    "\n",
    "plt.hist(ranks, bins=10)\n",
    "plt.show()"
   ]
  }
 ],
 "metadata": {
  "kernelspec": {
   "display_name": "Python 3",
   "language": "python",
   "name": "python3"
  },
  "language_info": {
   "codemirror_mode": {
    "name": "ipython",
    "version": 3
   },
   "file_extension": ".py",
   "mimetype": "text/x-python",
   "name": "python",
   "nbconvert_exporter": "python",
   "pygments_lexer": "ipython3",
   "version": "3.8.6"
  }
 },
 "nbformat": 4,
 "nbformat_minor": 4
}