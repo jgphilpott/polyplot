{
 "cells": [
  {
   "cell_type": "markdown",
   "metadata": {},
   "source": [
    "# Installs"
   ]
  },
  {
   "cell_type": "code",
   "execution_count": null,
   "metadata": {},
   "outputs": [],
   "source": [
    "pip install pymongo==3.11.0"
   ]
  },
  {
   "cell_type": "code",
   "execution_count": null,
   "metadata": {},
   "outputs": [],
   "source": [
    "pip install requests"
   ]
  },
  {
   "cell_type": "markdown",
   "metadata": {},
   "source": [
    "# Imports"
   ]
  },
  {
   "cell_type": "code",
   "execution_count": null,
   "metadata": {},
   "outputs": [],
   "source": [
    "from os import environ\n",
    "from requests import get\n",
    "from numbers import Number\n",
    "from datetime import datetime\n",
    "from pprint import pprint as pp\n",
    "from pymongo import MongoClient"
   ]
  },
  {
   "cell_type": "markdown",
   "metadata": {},
   "source": [
    "# Database Link"
   ]
  },
  {
   "cell_type": "code",
   "execution_count": null,
   "metadata": {},
   "outputs": [],
   "source": [
    "client = MongoClient(environ[\"MONGO_PORT_27017_TCP_ADDR\"], 27017)\n",
    "database = client.polyplot\n",
    "indicators = database[\"indicators\"]\n",
    "countries = database[\"countries\"]"
   ]
  },
  {
   "cell_type": "markdown",
   "metadata": {},
   "source": [
    "# Basic Functions"
   ]
  },
  {
   "cell_type": "code",
   "execution_count": null,
   "metadata": {},
   "outputs": [],
   "source": [
    "def find_indicator(query={}, filter={\"_id\": 0}):\n",
    "\n",
    "    return dict(indicators.find_one(query, filter))\n",
    "\n",
    "def find_indicators(query={}, filter={\"_id\": 0}, sort=[(\"name\", 1)], limit=0):\n",
    "\n",
    "    indicators.create_index(sort)\n",
    "\n",
    "    return list(indicators.find(query, filter).sort(sort).limit(limit))\n",
    "\n",
    "def update_indicator(indicator):\n",
    "\n",
    "    return indicators.update_one({\"code\": indicator[\"code\"]}, {\"$set\": indicator})\n",
    "\n",
    "def find_country(query={}, filter={\"_id\": 0}):\n",
    "\n",
    "    return dict(countries.find_one(query, filter))\n",
    "\n",
    "def find_countries(query={}, filter={\"_id\": 0}, sort=[(\"name\", 1)], limit=0):\n",
    "\n",
    "    countries.create_index(sort)\n",
    "\n",
    "    return list(countries.find(query, filter).sort(sort).limit(limit))\n",
    "\n",
    "def update_country(country):\n",
    "\n",
    "    return countries.update_one({\"code\": country[\"code\"]}, {\"$set\": country})"
   ]
  },
  {
   "cell_type": "markdown",
   "metadata": {},
   "source": [
    "# Classes"
   ]
  },
  {
   "cell_type": "markdown",
   "metadata": {},
   "source": [
    "## Indicator Class"
   ]
  },
  {
   "cell_type": "code",
   "execution_count": null,
   "metadata": {},
   "outputs": [],
   "source": [
    "class Indicator():\n",
    "\n",
    "    def __init__(self, indicator):\n",
    "\n",
    "        self.code = indicator[\"code\"]\n",
    "        self.name = indicator[\"name\"]\n",
    "        self.featured = indicator[\"featured\"]\n",
    "        self.categories = indicator[\"categories\"]\n",
    "\n",
    "        self.description = indicator[\"description\"]\n",
    "        self.limitations = indicator[\"limitations\"]\n",
    "        self.methodology = indicator[\"methodology\"]\n",
    "        self.relevance = indicator[\"relevance\"]\n",
    "\n",
    "        self.countries = indicator[\"countries\"] if \"countries\" in indicator else []\n",
    "\n",
    "        self.min_year = indicator[\"min_year\"] if \"min_year\" in indicator else None\n",
    "        self.max_year = indicator[\"max_year\"] if \"max_year\" in indicator else None\n",
    "\n",
    "        self.min_value = indicator[\"min_value\"] if \"min_value\" in indicator else None\n",
    "        self.max_value = indicator[\"max_value\"] if \"max_value\" in indicator else None\n",
    "\n",
    "        self.last_updated = indicator[\"last_updated\"] if \"last_updated\" in indicator else None\n",
    "\n",
    "        self.completeness = indicator[\"completeness\"] if \"completeness\" in indicator else 0\n",
    "        self.size = indicator[\"size\"] if \"size\" in indicator else 0\n",
    "\n",
    "    def calculate_size(self):\n",
    "\n",
    "        size = 0\n",
    "\n",
    "        for country in self.countries:\n",
    "\n",
    "            country[\"size\"] = len(str(country[\"history\"]).encode(\"utf-8\"))\n",
    "            size += country[\"size\"]\n",
    "\n",
    "        self.size = size\n",
    "\n",
    "        return self\n",
    "\n",
    "    def calculate_completeness(self):\n",
    "\n",
    "        total_data = 0\n",
    "        total_count = 0\n",
    "\n",
    "        for country in self.countries:\n",
    "\n",
    "            data = 0\n",
    "            count = 0\n",
    "\n",
    "            for date in country[\"history\"]:\n",
    "\n",
    "                count += 1\n",
    "                total_count += 1\n",
    "\n",
    "                if isinstance(date[\"value\"], Number):\n",
    "\n",
    "                    data += 1\n",
    "                    total_data += 1\n",
    "\n",
    "            country[\"completeness\"] = (data / count) * 100\n",
    "\n",
    "        self.completeness = (total_data / total_count) * 100\n",
    "\n",
    "        return self\n",
    "\n",
    "    def update(self):\n",
    "\n",
    "        try:\n",
    "\n",
    "            api = \"https://api.worldbank.org/v2/country/all/indicator/\"\n",
    "            meta = get(\"{}{}?format=json&per_page=1\".format(api, self.code)).json()[0]\n",
    "\n",
    "            if not self.last_updated or datetime.strptime(meta[\"lastupdated\"], \"%Y-%m-%d\") > datetime.strptime(self.last_updated, \"%Y-%m-%d\"):\n",
    "\n",
    "                data = get(\"{}{}?format=json&per_page={}\".format(api, self.code, meta[\"total\"])).json()[1]\n",
    "                countries = get(\"https://gist.githubusercontent.com/jgphilpott/a1366c890935e615f87a6843b72f541a/raw/878e2f31aebde8cf20832f1a0e61a9bc433101ec/countryCodes.js\").json()\n",
    "\n",
    "                for item in data:\n",
    "\n",
    "                    if item[\"countryiso3code\"] in countries:\n",
    "\n",
    "                        if int(item[\"date\"]):\n",
    "\n",
    "                            if not self.min_year: self.min_year = int(item[\"date\"])\n",
    "                            if not self.max_year: self.max_year = int(item[\"date\"])\n",
    "\n",
    "                            if int(item[\"date\"]) < self.min_year: self.min_year = int(item[\"date\"])\n",
    "                            if int(item[\"date\"]) > self.max_year: self.max_year = int(item[\"date\"])\n",
    "\n",
    "                        if isinstance(item[\"value\"], Number):\n",
    "\n",
    "                            if not self.min_value: self.min_value = item[\"value\"]\n",
    "                            if not self.max_value: self.max_value = item[\"value\"]\n",
    "\n",
    "                            if item[\"value\"] < self.min_value: self.min_value = item[\"value\"]\n",
    "                            if item[\"value\"] > self.max_value: self.max_value = item[\"value\"]\n",
    "\n",
    "                        year = {\"year\": int(item[\"date\"]), \"value\": item[\"value\"]}\n",
    "                        country = [country for country in self.countries if country[\"code\"] == item[\"countryiso3code\"]]\n",
    "\n",
    "                        if country:\n",
    "\n",
    "                            country[0][\"history\"].append(year)\n",
    "\n",
    "                        else:\n",
    "\n",
    "                            country = countries[item[\"countryiso3code\"]]\n",
    "\n",
    "                            name = country[\"name\"]\n",
    "                            formal_name = country[\"formal_name\"]\n",
    "                            region = country[\"region\"]\n",
    "                            factbook = country[\"factbook\"]\n",
    "                            wiki = country[\"wiki\"]\n",
    "\n",
    "                            self.countries.append({\"code\": item[\"countryiso3code\"], \"name\": name, \"formal_name\": formal_name, \"region\": region, \"factbook\": factbook, \"wiki\": wiki, \"history\": [year]})\n",
    "\n",
    "                self.calculate_size()\n",
    "                self.calculate_completeness()\n",
    "                self.last_updated = datetime.utcnow().strftime(\"%Y-%m-%d\")\n",
    "\n",
    "        except:\n",
    "\n",
    "            pass\n",
    "\n",
    "        return self"
   ]
  },
  {
   "cell_type": "markdown",
   "metadata": {},
   "source": [
    "## Country Class"
   ]
  },
  {
   "cell_type": "code",
   "execution_count": null,
   "metadata": {},
   "outputs": [],
   "source": [
    "class Country():\n",
    "\n",
    "    def __init__(self, country):\n",
    "\n",
    "        self.centroid = country[\"centroid\"]\n",
    "        self.code = country[\"code\"]\n",
    "        self.description = country[\"description\"]\n",
    "        self.factbook = country[\"factbook\"]\n",
    "        self.formal_name = country[\"formal_name\"]\n",
    "        self.name = country[\"name\"]\n",
    "        self.region = country[\"region\"]\n",
    "        self.wiki = country[\"wiki\"]\n",
    "\n",
    "        self.min_year = country[\"min_year\"] if \"min_year\" in country else None\n",
    "        self.max_year = country[\"max_year\"] if \"max_year\" in country else None\n",
    "\n",
    "        self.indicators = country[\"indicators\"] if \"indicators\" in country else {}\n",
    "        self.last_updated = country[\"last_updated\"] if \"last_updated\" in country else None\n",
    "\n",
    "    def update(self):\n",
    "\n",
    "        try:\n",
    "\n",
    "            time_range = []\n",
    "\n",
    "            query= {\"countries\": {\"$exists\": True, \"$ne\": []}, \"completeness\": {\"$gt\": 0}}\n",
    "            filter = {\"_id\": 0, \"code\": 1, \"name\": 1, \"categories\": 1, \"min_year\": 1, \"max_year\": 1, \"min_value\": 1, \"max_value\": 1, \"size\": 1, \"completeness\": 1, \"countries\": {\"$elemMatch\": {\"code\": self.code}}}\n",
    "\n",
    "            for indicator in find_indicators(query, filter):\n",
    "\n",
    "                del indicator[\"countries\"][0][\"code\"]\n",
    "                del indicator[\"countries\"][0][\"factbook\"]\n",
    "                del indicator[\"countries\"][0][\"formal_name\"]\n",
    "                del indicator[\"countries\"][0][\"name\"]\n",
    "                del indicator[\"countries\"][0][\"region\"]\n",
    "                del indicator[\"countries\"][0][\"wiki\"]\n",
    "\n",
    "                indicator[\"countries\"][0][\"code\"] = indicator[\"code\"]\n",
    "                indicator[\"countries\"][0][\"name\"] = indicator[\"name\"]\n",
    "                indicator[\"countries\"][0][\"categories\"] = indicator[\"categories\"]\n",
    "\n",
    "                years = [item[\"year\"] for item in indicator[\"countries\"][0][\"history\"] if isinstance(item[\"year\"], Number)]\n",
    "                values = [item[\"value\"] for item in indicator[\"countries\"][0][\"history\"] if isinstance(item[\"value\"], Number)]\n",
    "\n",
    "                indicator[\"countries\"][0][\"min_year\"] = min(years) if years else None\n",
    "                indicator[\"countries\"][0][\"max_year\"] = max(years) if years else None\n",
    "\n",
    "                indicator[\"countries\"][0][\"min_value\"] = min(values) if values else None\n",
    "                indicator[\"countries\"][0][\"max_value\"] = max(values) if values else None\n",
    "\n",
    "                indicator[\"countries\"][0][\"min_year_total\"] = indicator[\"min_year\"]\n",
    "                indicator[\"countries\"][0][\"max_year_total\"] = indicator[\"max_year\"]\n",
    "\n",
    "                if type(indicator[\"min_year\"]) == int: time_range.append(indicator[\"min_year\"])\n",
    "                if type(indicator[\"max_year\"]) == int: time_range.append(indicator[\"max_year\"])\n",
    "\n",
    "                indicator[\"countries\"][0][\"min_value_total\"] = indicator[\"min_value\"]\n",
    "                indicator[\"countries\"][0][\"max_value_total\"] = indicator[\"max_value\"]\n",
    "\n",
    "                indicator[\"countries\"][0][\"size_total\"] = indicator[\"size\"]\n",
    "                indicator[\"countries\"][0][\"completeness_total\"] = indicator[\"completeness\"]\n",
    "\n",
    "                self.indicators[indicator[\"code\"].replace(\".\", \"-\")] = indicator[\"countries\"][0]\n",
    "\n",
    "            self.min_year = min(time_range)\n",
    "            self.max_year = max(time_range)\n",
    "\n",
    "            self.last_updated = datetime.utcnow().strftime(\"%Y-%m-%d\")\n",
    "\n",
    "        except:\n",
    "\n",
    "            pass\n",
    "\n",
    "        return self"
   ]
  },
  {
   "cell_type": "markdown",
   "metadata": {},
   "source": [
    "# Setup"
   ]
  },
  {
   "cell_type": "markdown",
   "metadata": {},
   "source": [
    "First, view a list of all indicators that don't yet have a countries list downloaded."
   ]
  },
  {
   "cell_type": "code",
   "execution_count": null,
   "metadata": {},
   "outputs": [],
   "source": [
    "indicators_with_on_data = find_indicators({\"$or\": [{\"countries\": {\"$exists\": False}}, {\"countries\": []}]}, {\"_id\": 0, \"code\": 1, \"name\": 1})\n",
    "\n",
    "for indicator in indicators_with_on_data:\n",
    "\n",
    "    pp(indicator)"
   ]
  },
  {
   "cell_type": "markdown",
   "metadata": {},
   "source": [
    "Next, select the indicator you would like to download and copy the code into the cell below. If you would like to download all of the indicators type 'ALL'."
   ]
  },
  {
   "cell_type": "code",
   "execution_count": null,
   "metadata": {},
   "outputs": [],
   "source": [
    "code = \"PASTE_CODE_HERE\""
   ]
  },
  {
   "cell_type": "markdown",
   "metadata": {},
   "source": [
    "# Download\n",
    "\n",
    "**Note: Depending on your connection speed this step might take some time.**"
   ]
  },
  {
   "cell_type": "markdown",
   "metadata": {},
   "source": [
    "Now, run the cell below to download the selected indicator(s) and update the database."
   ]
  },
  {
   "cell_type": "code",
   "execution_count": null,
   "metadata": {},
   "outputs": [],
   "source": [
    "if code == \"ALL\":\n",
    "\n",
    "    for indicator in indicators_with_on_data:\n",
    "\n",
    "        update_indicator(Indicator(find_indicator({\"code\": indicator[\"code\"]})).update().__dict__)\n",
    "\n",
    "else:\n",
    "\n",
    "    update_indicator(Indicator(find_indicator({\"code\": code})).update().__dict__)"
   ]
  },
  {
   "cell_type": "markdown",
   "metadata": {},
   "source": [
    "Also, run the cell below to update all of the countries in the database with the new indicator(s) data."
   ]
  },
  {
   "cell_type": "code",
   "execution_count": null,
   "metadata": {},
   "outputs": [],
   "source": [
    "for country in find_countries({}, {\"_id\": 0, \"code\": 1}):\n",
    "\n",
    "    update_country(Country(find_country({\"code\": country[\"code\"]})).update().__dict__)"
   ]
  },
  {
   "cell_type": "markdown",
   "metadata": {},
   "source": [
    "# Varify (one at a time)"
   ]
  },
  {
   "cell_type": "markdown",
   "metadata": {},
   "source": [
    "Check that the new indicator is now updated in the database."
   ]
  },
  {
   "cell_type": "code",
   "execution_count": null,
   "metadata": {},
   "outputs": [],
   "source": [
    "code in [indicator[\"code\"] for indicator in find_indicators({\"countries\": {\"$exists\": True, \"$ne\": []}}, {\"code\": 1})]"
   ]
  },
  {
   "cell_type": "markdown",
   "metadata": {},
   "source": [
    "If you want you can also view/inspect the freshly downloaded indicator."
   ]
  },
  {
   "cell_type": "code",
   "execution_count": null,
   "metadata": {},
   "outputs": [],
   "source": [
    "find_indicator({\"code\": code})"
   ]
  },
  {
   "cell_type": "markdown",
   "metadata": {},
   "source": [
    "You should also check that the countries were updated properly. Run the cell below to verify that all countries now have the new indicator data. If you don't get an error then everything is okay!"
   ]
  },
  {
   "cell_type": "code",
   "execution_count": null,
   "metadata": {},
   "outputs": [],
   "source": [
    "keys = []\n",
    "\n",
    "for country in find_countries():\n",
    "\n",
    "    if not code.replace(\".\", \"-\") in country[\"indicators\"]:\n",
    "\n",
    "        pp(\"Error!\")\n",
    "\n",
    "    if len(country[\"indicators\"]) not in keys:\n",
    "\n",
    "        keys.append(len(country[\"indicators\"]))\n",
    "\n",
    "if len(keys) > 1:\n",
    "\n",
    "    pp(\"Error!\")"
   ]
  },
  {
   "cell_type": "markdown",
   "metadata": {},
   "source": [
    "If you want you can also view/inspect one of the countries to see that the update was successful."
   ]
  },
  {
   "cell_type": "code",
   "execution_count": null,
   "metadata": {},
   "outputs": [],
   "source": [
    "find_country({}, {\"_id\": 0, \"code\": 1, \"name\": 1, \"indicators.\" + code.replace(\".\", \"-\"): 1})"
   ]
  },
  {
   "cell_type": "markdown",
   "metadata": {},
   "source": [
    "**Congratulations, you have successfully downloaded a new indicator and updated the database! You should now repeat this process for all indicators that you would like to download.**"
   ]
  }
 ],
 "metadata": {
  "kernelspec": {
   "display_name": "Python 3",
   "language": "python",
   "name": "python3"
  },
  "language_info": {
   "codemirror_mode": {
    "name": "ipython",
    "version": 3
   },
   "file_extension": ".py",
   "mimetype": "text/x-python",
   "name": "python",
   "nbconvert_exporter": "python",
   "pygments_lexer": "ipython3",
   "version": "3.8.6"
  }
 },
 "nbformat": 4,
 "nbformat_minor": 4
}
