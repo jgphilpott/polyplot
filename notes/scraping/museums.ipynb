{
 "cells": [
  {
   "cell_type": "markdown",
   "metadata": {},
   "source": [
    "# Installs"
   ]
  },
  {
   "cell_type": "code",
   "execution_count": null,
   "metadata": {},
   "outputs": [],
   "source": [
    "pip install requests"
   ]
  },
  {
   "cell_type": "code",
   "execution_count": null,
   "metadata": {},
   "outputs": [],
   "source": [
    "pip install beautifulsoup4"
   ]
  },
  {
   "cell_type": "markdown",
   "metadata": {},
   "source": [
    "# Imports"
   ]
  },
  {
   "cell_type": "code",
   "execution_count": null,
   "metadata": {},
   "outputs": [],
   "source": [
    "import re\n",
    "import json\n",
    "from requests import get\n",
    "from bs4 import BeautifulSoup\n",
    "from pprint import pprint as pp"
   ]
  },
  {
   "cell_type": "markdown",
   "metadata": {},
   "source": [
    "# Setup"
   ]
  },
  {
   "cell_type": "code",
   "execution_count": null,
   "metadata": {},
   "outputs": [],
   "source": [
    "countryCodes = json.loads(get(\"https://gist.githubusercontent.com/jgphilpott/e49c4f53384c8e6528a4762218797355/raw/0a8d9c4e9970d2ce37810cfd7807105c7efd94b5/geoNamesCodes.js\").content.decode(\"utf-8\"))\n",
    "api = \"https://www.geonames.org/advanced-search.html?q=museum\"\n",
    "feature_class = \"&featureClass=S\"\n",
    "max_rows = \"&maxRows=500\""
   ]
  },
  {
   "cell_type": "markdown",
   "metadata": {},
   "source": [
    "# Scrape Raw Data"
   ]
  },
  {
   "cell_type": "code",
   "execution_count": null,
   "metadata": {},
   "outputs": [],
   "source": [
    "data = []\n",
    "\n",
    "for countryCode in countryCodes:\n",
    "\n",
    "    country = \"&country={}\".format(countryCode)\n",
    "\n",
    "    try:\n",
    "\n",
    "        soup = BeautifulSoup(get(api + feature_class + max_rows + country).content.decode(\"utf-8\"))\n",
    "\n",
    "        if not soup.find_all(text=\"no records found in geonames database, showing wikipedia results\") and not len(soup.find_all(\"table\", class_=\"restable\")) < 2:\n",
    "\n",
    "            row_count = 0\n",
    "            meta = soup.find(\"small\").text\n",
    "            records = int(\"\".join(char for char in meta if char.isdigit()))\n",
    "\n",
    "            while row_count < records and row_count <= 5000:\n",
    "\n",
    "                print(\"Scraping: \" + api + feature_class + max_rows + country + \"&startRow={}\".format(row_count))\n",
    "\n",
    "                soup = BeautifulSoup(get(api + feature_class + max_rows + country + \"&startRow={}\".format(row_count)).content.decode(\"utf-8\"))\n",
    "\n",
    "                table = soup.find_all(\"table\", class_=\"restable\")[1]\n",
    "                table_data = table.find_all(\"tr\")[2:-1]\n",
    "\n",
    "                for row in table_data:\n",
    "\n",
    "                    museum = {\"id\": len(data) + 1}\n",
    "\n",
    "                    cells = row.find_all(\"td\")[1:]\n",
    "\n",
    "                    if len(cells[0].find_all(\"a\")) >= 1:\n",
    "                        museum[\"name\"] = cells[0].find_all(\"a\")[0].text.strip()\n",
    "                    else:\n",
    "                        museum[\"name\"] = \"\"\n",
    "\n",
    "                    if len(cells[0].find_all(\"a\")) >= 2:\n",
    "                        museum[\"wiki\"] = cells[0].find_all(\"a\")[1][\"href\"].strip()\n",
    "                    else:\n",
    "                        museum[\"wiki\"] = \"\"\n",
    "\n",
    "                    if len(cells[1].find_all(\"a\")) >= 1:\n",
    "                        museum[\"country\"] = cells[1].find_all(\"a\")[0].text.strip()\n",
    "                    else:\n",
    "                        museum[\"country\"] = \"\"\n",
    "\n",
    "                    if len(cells[1].contents) >= 2:\n",
    "                        museum[\"zone\"] = re.sub(r\"[^\\w\\s]\", \"\", cells[1].contents[1]).strip()\n",
    "                        if len(cells[1].contents) >= 4:\n",
    "                            museum[\"sub_zone\"] = cells[1].contents[3].text.strip()\n",
    "                        else:\n",
    "                            museum[\"sub_zone\"] = \"\"\n",
    "                    else:\n",
    "                        museum[\"zone\"] = \"\"\n",
    "\n",
    "                    if len(cells[2].contents) >= 1 and str(cells[2].contents[0]) != \"<br/>\":\n",
    "                        museum[\"feature\"] = cells[2].contents[0].strip()\n",
    "                    else:\n",
    "                        museum[\"feature\"] = \"\"\n",
    "\n",
    "                    if len(cells[2].contents) > 3:\n",
    "                        museum[\"elevation_m\"] = int(\"\".join(char for char in cells[2].contents[2].text if char.isdigit()))\n",
    "                    else:\n",
    "                        museum[\"elevation_m\"] = None\n",
    "\n",
    "                    museum[\"latitude\"] = cells[3].text.strip()\n",
    "                    museum[\"longitude\"] = cells[4].text.strip()\n",
    "\n",
    "                    data.append(museum)\n",
    "\n",
    "                row_count += 500\n",
    "\n",
    "        else:\n",
    "\n",
    "            print(\"No data at: \" + api + feature_class + max_rows + country + \"&startRow={}\".format(row_count))\n",
    "\n",
    "    except:\n",
    "\n",
    "        print(\"Error at: \" + api + feature_class + max_rows + country + \"&startRow={}\".format(row_count))\n",
    "\n",
    "print(\"Done!\")"
   ]
  },
  {
   "cell_type": "markdown",
   "metadata": {},
   "source": [
    "# Save Raw Data"
   ]
  },
  {
   "cell_type": "code",
   "execution_count": null,
   "metadata": {},
   "outputs": [],
   "source": [
    "with open(\"raw_museum_data.json\", \"w\") as file:\n",
    "    json.dump(data, file, indent=2, sort_keys=True)"
   ]
  }
 ],
 "metadata": {
  "kernelspec": {
   "display_name": "Python 3",
   "language": "python",
   "name": "python3"
  },
  "language_info": {
   "codemirror_mode": {
    "name": "ipython",
    "version": 3
   },
   "file_extension": ".py",
   "mimetype": "text/x-python",
   "name": "python",
   "nbconvert_exporter": "python",
   "pygments_lexer": "ipython3",
   "version": "3.8.6"
  }
 },
 "nbformat": 4,
 "nbformat_minor": 4
}